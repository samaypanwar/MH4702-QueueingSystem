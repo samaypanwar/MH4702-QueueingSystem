{
 "cells": [
  {
   "cell_type": "code",
   "execution_count": 2,
   "outputs": [],
   "source": [
    "import numpy as np\n",
    "import pandas as pd\n",
    "from simulation import Bank_Simulation"
   ],
   "metadata": {
    "collapsed": false,
    "pycharm": {
     "name": "#%%\n"
    }
   }
  },
  {
   "cell_type": "code",
   "execution_count": 3,
   "metadata": {
    "collapsed": true,
    "pycharm": {
     "name": "#%%\n"
    }
   },
   "outputs": [
    {
     "name": "stderr",
     "output_type": "stream",
     "text": [
      "/var/folders/t6/2vvjnfk10mx932fmzp_hb4wr0000gn/T/ipykernel_87062/1956794563.py:18: FutureWarning: The frame.append method is deprecated and will be removed from pandas in a future version. Use pandas.concat instead.\n",
      "  df = df.append(a, ignore_index = True)\n"
     ]
    }
   ],
   "source": [
    "s = Bank_Simulation()\n",
    "df = pd.DataFrame(\n",
    "    columns = ['Average interarrival time', 'Average service time teller1', 'Average service time teller 2',\n",
    "               'Utilization teller 1', 'Utilization teller 2', 'People who had to wait in line',\n",
    "               'Total average wait time', 'Lost Customers']\n",
    "    )\n",
    "\n",
    "for i in range(100):\n",
    "    np.random.seed(i)\n",
    "    s.__init__()\n",
    "    while s.clock <= 240:\n",
    "        s.time_adv()\n",
    "    a = pd.Series(\n",
    "            [s.clock / s.num_arrivals, s.dep_sum1 / s.num_of_departures1, s.dep_sum2 / s.num_of_departures2,\n",
    "             s.dep_sum1 / s.clock, s.dep_sum2 / s.clock, s.number_in_queue, s.total_wait_time, s.lost_customers],\n",
    "            index = df.columns\n",
    "            )\n",
    "    df = df.append(a, ignore_index = True)\n",
    "\n",
    "# df.to_excel('results.xlsx')\n"
   ]
  },
  {
   "cell_type": "code",
   "execution_count": 4,
   "outputs": [
    {
     "data": {
      "text/plain": "    Average interarrival time  Average service time teller1  \\\n0                    2.699723                      1.511961   \n1                    2.734424                      1.330915   \n2                    2.917773                      1.239308   \n3                    2.612595                      0.951630   \n4                    2.965449                      1.130387   \n..                        ...                           ...   \n95                   2.875166                      1.597553   \n96                   2.911559                      0.968634   \n97                   2.982145                      1.069509   \n98                   2.534948                      1.048447   \n99                   3.121511                      1.113771   \n\n    Average service time teller 2  Utilization teller 1  Utilization teller 2  \\\n0                        1.474609              0.298690              0.248828   \n1                        1.420798              0.237832              0.259798   \n2                        1.329949              0.222485              0.211626   \n3                        1.553196              0.186083              0.277866   \n4                        1.654332              0.202358              0.254829   \n..                            ...                   ...                   ...   \n95                       1.498857              0.271204              0.266862   \n96                       1.862393              0.176364              0.292854   \n97                       1.336071              0.183692              0.213084   \n98                       1.235287              0.235097              0.210310   \n99                       1.590654              0.192126              0.228657   \n\n    People who had to wait in line  Total average wait time  Lost Customers  \n0                              9.0                 5.520134             0.0  \n1                              9.0                13.508771             0.0  \n2                              7.0                 2.139405             0.0  \n3                              4.0                 3.835139             0.0  \n4                             12.0                10.926217             0.0  \n..                             ...                      ...             ...  \n95                             7.0                 5.122213             0.0  \n96                             5.0                 2.041306             0.0  \n97                            13.0                 9.458080             0.0  \n98                             8.0                11.493486             0.0  \n99                             6.0                 4.428438             0.0  \n\n[100 rows x 8 columns]",
      "text/html": "<div>\n<style scoped>\n    .dataframe tbody tr th:only-of-type {\n        vertical-align: middle;\n    }\n\n    .dataframe tbody tr th {\n        vertical-align: top;\n    }\n\n    .dataframe thead th {\n        text-align: right;\n    }\n</style>\n<table border=\"1\" class=\"dataframe\">\n  <thead>\n    <tr style=\"text-align: right;\">\n      <th></th>\n      <th>Average interarrival time</th>\n      <th>Average service time teller1</th>\n      <th>Average service time teller 2</th>\n      <th>Utilization teller 1</th>\n      <th>Utilization teller 2</th>\n      <th>People who had to wait in line</th>\n      <th>Total average wait time</th>\n      <th>Lost Customers</th>\n    </tr>\n  </thead>\n  <tbody>\n    <tr>\n      <th>0</th>\n      <td>2.699723</td>\n      <td>1.511961</td>\n      <td>1.474609</td>\n      <td>0.298690</td>\n      <td>0.248828</td>\n      <td>9.0</td>\n      <td>5.520134</td>\n      <td>0.0</td>\n    </tr>\n    <tr>\n      <th>1</th>\n      <td>2.734424</td>\n      <td>1.330915</td>\n      <td>1.420798</td>\n      <td>0.237832</td>\n      <td>0.259798</td>\n      <td>9.0</td>\n      <td>13.508771</td>\n      <td>0.0</td>\n    </tr>\n    <tr>\n      <th>2</th>\n      <td>2.917773</td>\n      <td>1.239308</td>\n      <td>1.329949</td>\n      <td>0.222485</td>\n      <td>0.211626</td>\n      <td>7.0</td>\n      <td>2.139405</td>\n      <td>0.0</td>\n    </tr>\n    <tr>\n      <th>3</th>\n      <td>2.612595</td>\n      <td>0.951630</td>\n      <td>1.553196</td>\n      <td>0.186083</td>\n      <td>0.277866</td>\n      <td>4.0</td>\n      <td>3.835139</td>\n      <td>0.0</td>\n    </tr>\n    <tr>\n      <th>4</th>\n      <td>2.965449</td>\n      <td>1.130387</td>\n      <td>1.654332</td>\n      <td>0.202358</td>\n      <td>0.254829</td>\n      <td>12.0</td>\n      <td>10.926217</td>\n      <td>0.0</td>\n    </tr>\n    <tr>\n      <th>...</th>\n      <td>...</td>\n      <td>...</td>\n      <td>...</td>\n      <td>...</td>\n      <td>...</td>\n      <td>...</td>\n      <td>...</td>\n      <td>...</td>\n    </tr>\n    <tr>\n      <th>95</th>\n      <td>2.875166</td>\n      <td>1.597553</td>\n      <td>1.498857</td>\n      <td>0.271204</td>\n      <td>0.266862</td>\n      <td>7.0</td>\n      <td>5.122213</td>\n      <td>0.0</td>\n    </tr>\n    <tr>\n      <th>96</th>\n      <td>2.911559</td>\n      <td>0.968634</td>\n      <td>1.862393</td>\n      <td>0.176364</td>\n      <td>0.292854</td>\n      <td>5.0</td>\n      <td>2.041306</td>\n      <td>0.0</td>\n    </tr>\n    <tr>\n      <th>97</th>\n      <td>2.982145</td>\n      <td>1.069509</td>\n      <td>1.336071</td>\n      <td>0.183692</td>\n      <td>0.213084</td>\n      <td>13.0</td>\n      <td>9.458080</td>\n      <td>0.0</td>\n    </tr>\n    <tr>\n      <th>98</th>\n      <td>2.534948</td>\n      <td>1.048447</td>\n      <td>1.235287</td>\n      <td>0.235097</td>\n      <td>0.210310</td>\n      <td>8.0</td>\n      <td>11.493486</td>\n      <td>0.0</td>\n    </tr>\n    <tr>\n      <th>99</th>\n      <td>3.121511</td>\n      <td>1.113771</td>\n      <td>1.590654</td>\n      <td>0.192126</td>\n      <td>0.228657</td>\n      <td>6.0</td>\n      <td>4.428438</td>\n      <td>0.0</td>\n    </tr>\n  </tbody>\n</table>\n<p>100 rows × 8 columns</p>\n</div>"
     },
     "execution_count": 4,
     "metadata": {},
     "output_type": "execute_result"
    }
   ],
   "source": [
    "df"
   ],
   "metadata": {
    "collapsed": false,
    "pycharm": {
     "name": "#%%\n"
    }
   }
  },
  {
   "cell_type": "code",
   "execution_count": null,
   "outputs": [],
   "source": [],
   "metadata": {
    "collapsed": false,
    "pycharm": {
     "name": "#%%\n"
    }
   }
  }
 ],
 "metadata": {
  "kernelspec": {
   "display_name": "Python 3",
   "language": "python",
   "name": "python3"
  },
  "language_info": {
   "codemirror_mode": {
    "name": "ipython",
    "version": 2
   },
   "file_extension": ".py",
   "mimetype": "text/x-python",
   "name": "python",
   "nbconvert_exporter": "python",
   "pygments_lexer": "ipython2",
   "version": "2.7.6"
  }
 },
 "nbformat": 4,
 "nbformat_minor": 0
}