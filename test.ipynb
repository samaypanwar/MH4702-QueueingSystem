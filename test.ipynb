{
 "cells": [
  {
   "cell_type": "code",
   "execution_count": 18,
   "outputs": [
    {
     "name": "stdout",
     "output_type": "stream",
     "text": [
      "The autoreload extension is already loaded. To reload it, use:\n",
      "  %reload_ext autoreload\n"
     ]
    }
   ],
   "source": [
    "import numpy as np\n",
    "import pandas as pd\n",
    "from simulationmain import Simulation\n",
    "from tqdm.notebook import tqdm\n",
    "\n",
    "%load_ext autoreload\n",
    "%autoreload 2"
   ],
   "metadata": {
    "collapsed": false,
    "pycharm": {
     "name": "#%%\n"
    }
   }
  },
  {
   "cell_type": "code",
   "execution_count": 3,
   "metadata": {
    "collapsed": true,
    "pycharm": {
     "name": "#%%\n"
    }
   },
   "outputs": [
    {
     "name": "stderr",
     "output_type": "stream",
     "text": [
      "/var/folders/t6/2vvjnfk10mx932fmzp_hb4wr0000gn/T/ipykernel_87062/1956794563.py:18: FutureWarning: The frame.append method is deprecated and will be removed from pandas in a future version. Use pandas.concat instead.\n",
      "  df = df.append(a, ignore_index = True)\n"
     ]
    }
   ],
   "source": [
    "s = Bank_Simulation()\n",
    "df = pd.DataFrame(\n",
    "    columns = ['Average interarrival time', 'Average service time teller1', 'Average service time teller 2',\n",
    "               'Utilization teller 1', 'Utilization teller 2', 'People who had to wait in line',\n",
    "               'Total average wait time', 'Lost Customers']\n",
    "    )\n",
    "\n",
    "for i in range(100):\n",
    "    np.random.seed(i)\n",
    "    s.__init__()\n",
    "    while s.clock <= 240:\n",
    "        s.time_adv()\n",
    "    a = pd.Series(\n",
    "            [s.clock / s.num_arrivals, s.dep_sum1 / s.num_of_departures1, s.dep_sum2 / s.num_of_departures2,\n",
    "             s.dep_sum1 / s.clock, s.dep_sum2 / s.clock, s.number_in_queue, s.total_wait_time, s.lost_customers],\n",
    "            index = df.columns\n",
    "            )\n",
    "    df = df.append(a, ignore_index = True)\n",
    "\n",
    "# df.to_excel('results.xlsx')\n"
   ]
  },
  {
   "cell_type": "code",
   "execution_count": 30,
   "outputs": [
    {
     "data": {
      "text/plain": "  0%|          | 0/10 [00:00<?, ?it/s]",
      "application/vnd.jupyter.widget-view+json": {
       "version_major": 2,
       "version_minor": 0,
       "model_id": "794ebc8c7e01464fb3ed331547ad561f"
      }
     },
     "metadata": {},
     "output_type": "display_data"
    }
   ],
   "source": [
    "s = Simulation()\n",
    "df = pd.DataFrame(\n",
    "    columns = ['Average interarrival time', 'Average service time teller1', 'Average service time teller 2',\n",
    "               'Utilization teller 1', 'Utilization teller 2', 'People who had to wait in line',\n",
    "               'Total average wait time', 'Lost Customers']\n",
    "    )\n",
    "\n",
    "for i in tqdm(range(10)):\n",
    "    np.random.seed(i)\n",
    "    s.__init__()\n",
    "    while s.clock <= 15:\n",
    "        s.timing_routine()\n",
    "    # a = pd.Series(\n",
    "    #         [s.clock / s.totalNumberOfArrivals, s.number_in_queue, s.total_wait_time, s.lost_customers],\n",
    "    #         index = df.columns\n",
    "    #         )\n",
    "    # df = df.append(a, ignore_index = True)\n"
   ],
   "metadata": {
    "collapsed": false,
    "pycharm": {
     "name": "#%%\n"
    }
   }
  },
  {
   "cell_type": "code",
   "execution_count": 32,
   "outputs": [
    {
     "data": {
      "text/plain": "16.358161742848864"
     },
     "execution_count": 32,
     "metadata": {},
     "output_type": "execute_result"
    }
   ],
   "source": [
    "s.clock"
   ],
   "metadata": {
    "collapsed": false,
    "pycharm": {
     "name": "#%%\n"
    }
   }
  },
  {
   "cell_type": "code",
   "execution_count": 33,
   "outputs": [
    {
     "data": {
      "text/plain": "[3.0020856681012273,\n 4.034827467823035,\n 4.178086610659696,\n 4.373734028877,\n 7.7839586940129735]"
     },
     "execution_count": 33,
     "metadata": {},
     "output_type": "execute_result"
    }
   ],
   "source": [
    "s.departureTimes"
   ],
   "metadata": {
    "collapsed": false,
    "pycharm": {
     "name": "#%%\n"
    }
   }
  },
  {
   "cell_type": "code",
   "execution_count": 42,
   "outputs": [
    {
     "data": {
      "text/plain": "4.519900856660276"
     },
     "execution_count": 42,
     "metadata": {},
     "output_type": "execute_result"
    }
   ],
   "source": [
    "s.timeOfNextArrival"
   ],
   "metadata": {
    "collapsed": false,
    "pycharm": {
     "name": "#%%\n"
    }
   }
  },
  {
   "cell_type": "code",
   "execution_count": null,
   "outputs": [],
   "source": [],
   "metadata": {
    "collapsed": false,
    "pycharm": {
     "name": "#%%\n"
    }
   }
  }
 ],
 "metadata": {
  "kernelspec": {
   "display_name": "Python 3",
   "language": "python",
   "name": "python3"
  },
  "language_info": {
   "codemirror_mode": {
    "name": "ipython",
    "version": 2
   },
   "file_extension": ".py",
   "mimetype": "text/x-python",
   "name": "python",
   "nbconvert_exporter": "python",
   "pygments_lexer": "ipython2",
   "version": "2.7.6"
  }
 },
 "nbformat": 4,
 "nbformat_minor": 0
}